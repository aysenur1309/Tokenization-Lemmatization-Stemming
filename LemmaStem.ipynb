{
 "cells": [
  {
   "cell_type": "code",
   "execution_count": null,
   "id": "29be777b-9b94-4a8d-90f7-06384db2911f",
   "metadata": {},
   "outputs": [],
   "source": [
    "import nltk\n",
    "import string "
   ]
  },
  {
   "cell_type": "code",
   "execution_count": null,
   "id": "b910a155-1941-4688-adfe-98b4195176f6",
   "metadata": {},
   "outputs": [],
   "source": [
    "from nltk.tokenize import word_tokenize\n",
    "from nltk.corpus import stopwords \n",
    "from nltk.stem import PorterStemmer, WordNetLemmatizer"
   ]
  },
  {
   "cell_type": "code",
   "execution_count": null,
   "id": "664ae63e-03d1-47cb-98da-eb07892d434a",
   "metadata": {},
   "outputs": [],
   "source": [
    "stop_words = set(stopwords.words('english')) # İngilizce stopword'ler yüklendi"
   ]
  },
  {
   "cell_type": "code",
   "execution_count": null,
   "id": "c25b4891-be61-4fe8-9e53-6fac8ee2baf6",
   "metadata": {},
   "outputs": [],
   "source": [
    "# Örnek cümle\n",
    "sentence = \"Cybersecurity risks are becoming increasingly prevalent and sophisticated in today's digital age.\""
   ]
  },
  {
   "cell_type": "code",
   "execution_count": null,
   "id": "a12a6780-9df1-4a95-b44f-25fb1195520b",
   "metadata": {},
   "outputs": [],
   "source": [
    "# Tokenization, bir metni anlamlı parçalara (token) ayırma işlemi\n",
    "words = word_tokenize(sentence) "
   ]
  },
  {
   "cell_type": "code",
   "execution_count": null,
   "id": "f113f6ca-d401-4726-9f2a-755aaeed70e6",
   "metadata": {},
   "outputs": [],
   "source": [
    "# Küçük harfe dönüştürme ve noktalama işaretlerini kaldırma işlemi\n",
    "# Bu koşul, sadece harf ve sayılardan oluşan kelimeleri seçer\n",
    "# isalnum() metodu, bir stringin alfanümerik olup olmadığını kontrol eder\n",
    "# Yani sadece harf veya sayı içeriyorsa True, aksi halde False döner\n",
    "words = [word.lower() for word in words if word.isalnum()]"
   ]
  },
  {
   "cell_type": "code",
   "execution_count": null,
   "id": "7742537b-0631-4901-ad11-c630e5d26ad4",
   "metadata": {},
   "outputs": [],
   "source": [
    "word = \"Merhaba123\"\n",
    "print(word.isalnum())"
   ]
  },
  {
   "cell_type": "code",
   "execution_count": null,
   "id": "8ee25d7e-59e1-4f0d-847b-8d3aacc21ac4",
   "metadata": {},
   "outputs": [],
   "source": [
    "word = \"Merhaba Dünya!\"\n",
    "print(word.isalnum())  # Çıktı: False çünkü boşluk ve ünlem işareti var"
   ]
  },
  {
   "cell_type": "code",
   "execution_count": null,
   "id": "b0f67ec7-8f54-4861-a183-828443c6db0b",
   "metadata": {},
   "outputs": [],
   "source": [
    "word = \"@kodlama\"\n",
    "print(word.isalnum())  # Çıktı: False çünkü @ işareti var"
   ]
  },
  {
   "cell_type": "code",
   "execution_count": null,
   "id": "63db20bd-73fa-494d-8600-44160dcfdb24",
   "metadata": {},
   "outputs": [],
   "source": [
    "# Stopwords'leri kaldırma \n",
    "# Kelime stopwords değilse kelimeyi alır kelimeler listesine atar\n",
    "words = [word for word in words if word not in stop_words]"
   ]
  },
  {
   "cell_type": "code",
   "execution_count": null,
   "id": "55ef1b01-aebe-4e29-a88a-9db077897bb6",
   "metadata": {},
   "outputs": [],
   "source": [
    "# Stemming(Kök çıkarma)\n",
    "porter_stemmer = PorterStemmer()\n",
    "stemmed_words = [porter_stemmer.stem(word) for word in words]"
   ]
  },
  {
   "cell_type": "code",
   "execution_count": null,
   "id": "1dcad2bf-f901-40c1-87b3-bb604845f953",
   "metadata": {},
   "outputs": [],
   "source": [
    "# Lematizasyon, bir kelimeyi sözlükteki temel hâline (lemma) dönüştürme\n",
    "wordnet_lemmatizer = WordNetLemmatizer()\n",
    "lemmatized_words = [wordnet_lemmatizer.lemmatize(word) for word in words]"
   ]
  },
  {
   "cell_type": "code",
   "execution_count": null,
   "id": "f804c60b-1f81-4d24-9b1e-4d077bf66d4a",
   "metadata": {},
   "outputs": [],
   "source": [
    "print(f\"Orijinal Cümle: {sentence}\")  # Sonuçları yazdırma \n",
    "print(f\"Tokenlar: {words}\")\n",
    "print(f\"Stemmed Kelimeler: {stemmed_words}\")\n",
    "print(f\"Lemmatized Kelimeler: {lemmatized_words}\")"
   ]
  },
  {
   "cell_type": "code",
   "execution_count": null,
   "id": "b1a3addf-58d8-4ddd-8d45-aad1b5befafc",
   "metadata": {},
   "outputs": [],
   "source": [
    "from snowballstemmer import TurkishStemmer # Türkçe kök çıkarma"
   ]
  },
  {
   "cell_type": "code",
   "execution_count": null,
   "id": "ae45b7c1-8e5c-4db5-a9f6-5dd9aa8fa5e4",
   "metadata": {},
   "outputs": [],
   "source": [
    "cumle = \"Günümüz dijital çağında siber güvenlik riskleri giderek yaygılaşmakta ve karmaşılaşmaktadır.\""
   ]
  },
  {
   "cell_type": "code",
   "execution_count": null,
   "id": "0801310f-0d92-45b8-a65e-b3a17031d6f0",
   "metadata": {},
   "outputs": [],
   "source": [
    "kelimeler = word_tokenize(cumle)"
   ]
  },
  {
   "cell_type": "code",
   "execution_count": null,
   "id": "1388b4e0-37b3-488b-8266-27c1cb6ef026",
   "metadata": {},
   "outputs": [],
   "source": [
    "# Küçük harfe dönüştürme ve noktalama işaretlerini kaldırma\n",
    "kelimeler = [kelime.lower() for kelime in kelimeler if kelime.isalnum()]"
   ]
  },
  {
   "cell_type": "code",
   "execution_count": null,
   "id": "a09135a3-fa55-44cc-8f59-526d47018412",
   "metadata": {},
   "outputs": [],
   "source": [
    "kelime = \"Merhabalar\"\n",
    "print(kelime.isalnum())"
   ]
  },
  {
   "cell_type": "code",
   "execution_count": null,
   "id": "7c565de6-a181-414e-8407-6a72c8b67257",
   "metadata": {},
   "outputs": [],
   "source": [
    "kelime = \"Merhaba Dünya!!\"\n",
    "print(kelime.isalnum())"
   ]
  },
  {
   "cell_type": "code",
   "execution_count": null,
   "id": "4f12fcea-649a-4402-91f3-32338c607dd6",
   "metadata": {},
   "outputs": [],
   "source": [
    "turkcekok = TurkishStemmer()\n",
    "stemmed_kelimeler = [turkcekok.stemWord(kelime) for kelime in kelimeler]"
   ]
  },
  {
   "cell_type": "code",
   "execution_count": null,
   "id": "88abeab2-15b0-4314-8a25-d9b578fd1904",
   "metadata": {},
   "outputs": [],
   "source": [
    "print(f\"Orijinal Cümle: {cumle}\")  # Sonuçları yazdırma\n",
    "print(f\"Tokenlar: {kelimeler}\")\n",
    "print(f\"Stemmed Kelimeler: {stemmed_kelimeler}\")"
   ]
  },
  {
   "cell_type": "code",
   "execution_count": null,
   "id": "91355c8a-1132-4ad4-8c69-2d38c0432567",
   "metadata": {},
   "outputs": [],
   "source": [
    "from nltk.tokenize import word_tokenize\n",
    "from nltk.corpus import stopwords "
   ]
  },
  {
   "cell_type": "code",
   "execution_count": null,
   "id": "a7d99da5-afa5-4bc6-89ea-c7c7792a60fa",
   "metadata": {},
   "outputs": [],
   "source": [
    "def removeStopWords(documents):  # Stopwords'leri kaldırma fonksiyonu\n",
    "    stop_words = set(stopwords.words('english'))\n",
    "    result = []\n",
    "    for document in documents:  # Tüm dökümanları alıp tokenize etme \n",
    "        words = word_tokenize(document)\n",
    "    # Stopword'leri çıkarma. Eğer word değişkeni stopwords değilse filtered_words listesine at\n",
    "        filtered_words = [word for word in words if word.lower() not in stop_words]\n",
    "    # Temizlenmiş cümleyi result listesine ekleme .join(filtered_words)    \n",
    "        result.append(\" \".join(filtered_words)) \n",
    "    return result"
   ]
  },
  {
   "cell_type": "code",
   "execution_count": null,
   "id": "12347578-93d5-4be5-aa44-cfeabb52c192",
   "metadata": {},
   "outputs": [],
   "source": [
    "# Örnek cümleler\n",
    "documents = [\"This is a simple example sentence.\",\n",
    "             \"Cybersecurity risks are becoming increasingly prevalent and sophisticated in today's digital age.\"\n",
    "]"
   ]
  },
  {
   "cell_type": "code",
   "execution_count": null,
   "id": "cd27d12f-99af-421e-8e22-21386110aed3",
   "metadata": {},
   "outputs": [],
   "source": [
    "yeni = removeStopWords(documents)  # Stopwords'leri kaldırma işlemi"
   ]
  },
  {
   "cell_type": "code",
   "execution_count": null,
   "id": "05acebe6-1f8f-4afa-b938-0381e877e13b",
   "metadata": {},
   "outputs": [],
   "source": [
    "print(\"Orijinal Cümle:\")\n",
    "for document in documents:\n",
    "    print(f\"- {document}\")"
   ]
  },
  {
   "cell_type": "code",
   "execution_count": null,
   "id": "ae29fff3-2947-4456-baf3-75c290a0ac78",
   "metadata": {},
   "outputs": [],
   "source": [
    "print(\"\\nProcessed Sentences (Stopwords Removed):\")\n",
    "for document in yeni:\n",
    "    print(f\"- {document}\") "
   ]
  },
  {
   "cell_type": "code",
   "execution_count": null,
   "id": "16c8fda7-841c-498a-8db0-2f38231a13ab",
   "metadata": {},
   "outputs": [],
   "source": [
    "def tokenizedDocument(documents):  # Tokenization fonksiyonu\n",
    "    result = []\n",
    "    for document in documents:\n",
    "        words = word_tokenize(document)\n",
    "        result.append(words)\n",
    "    return result    "
   ]
  },
  {
   "cell_type": "code",
   "execution_count": null,
   "id": "291505b7-074f-4a64-9cb4-f4e1f105a11f",
   "metadata": {},
   "outputs": [],
   "source": [
    "def removeLongWords(documents, max_length):  # Uzun kelimeleri kaldıran foksiyon\n",
    "    result = []\n",
    "    for document in documents:\n",
    "        filtered_words = [word for word in document if len(word) <= max_length]\n",
    "        result.append(filtered_words)\n",
    "    return result   "
   ]
  },
  {
   "cell_type": "code",
   "execution_count": null,
   "id": "665be7f5-d455-4270-b0e0-ad0aacb4ece4",
   "metadata": {},
   "outputs": [],
   "source": [
    "def removeShortWords(documents, min_length):  # Kısa kelimeleri kaldıran fonksiyon\n",
    "    result = []\n",
    "    for document in documents:\n",
    "        filtered_words = [word for word in document if len(word) >= min_length]\n",
    "        result.append(filtered_words)\n",
    "    return result"
   ]
  },
  {
   "cell_type": "code",
   "execution_count": null,
   "id": "208501ee-4487-4724-8032-aaf8d27c4e6d",
   "metadata": {},
   "outputs": [],
   "source": [
    "def removeWords(documents, words_to_remove):  # Belirli kelimeleri kaldıran fonksiyon\n",
    "    result = []\n",
    "    for document in documents:\n",
    "        filtered_words = [word for word in document if word not in words_to_remove]\n",
    "        result.append(filtered_words)\n",
    "    return result"
   ]
  },
  {
   "cell_type": "code",
   "execution_count": null,
   "id": "6e7247ee-e287-4dca-96cd-a29f151297ac",
   "metadata": {},
   "outputs": [],
   "source": [
    "# Örnek cümleler\n",
    "cumleler = [\n",
    "    \"an example of a short sentence\",\n",
    "    \"Cybersecurity risks are becoming increasingly prevalent and sophisticated in today's digital age.\"\n",
    "]"
   ]
  },
  {
   "cell_type": "code",
   "execution_count": null,
   "id": "e13ba062-b457-4bed-9ab7-4f567088f499",
   "metadata": {},
   "outputs": [],
   "source": [
    "# Tokenization işlemi\n",
    "dokuman = tokenizedDocument(cumleler) "
   ]
  },
  {
   "cell_type": "code",
   "execution_count": null,
   "id": "ea391448-4e98-4b34-84fd-bef3585dfb11",
   "metadata": {},
   "outputs": [],
   "source": [
    "# Uzun kelimeleri kaldırma işlemi\n",
    "uzun = removeLongWords(dokuman,6)"
   ]
  },
  {
   "cell_type": "code",
   "execution_count": null,
   "id": "8298157d-f00a-4c8c-b5e2-a68bf4f67ce3",
   "metadata": {},
   "outputs": [],
   "source": [
    "# Kısa kelimeleri kaldırma işlemi\n",
    "kisa = removeShortWords(dokuman,4)"
   ]
  },
  {
   "cell_type": "code",
   "execution_count": null,
   "id": "8fa5e93c-3bd1-48d6-ad12-0905df8c8bef",
   "metadata": {},
   "outputs": [],
   "source": [
    "# Belirli kelimeleri kaldırma işlemi\n",
    "kelimeler = [\"short\", \"risks\", \"prevalent\"]\n",
    "istenilenkelimeatimi = removeWords(dokuman, kelimeler)"
   ]
  },
  {
   "cell_type": "code",
   "execution_count": null,
   "id": "cc35129c-cb45-43dc-a080-f6961438e6c7",
   "metadata": {},
   "outputs": [],
   "source": [
    "print(\"Orijinal Cümleler:\")\n",
    "for cumle in cumleler:\n",
    "    print(f\"-{cumle}\")"
   ]
  },
  {
   "cell_type": "code",
   "execution_count": null,
   "id": "91f37918-871c-410e-b551-5107899f930e",
   "metadata": {},
   "outputs": [],
   "source": [
    "print(\"\\nUzun Kelimelerin Atılması:\")\n",
    "for filtered_cumle in uzun:\n",
    "    print(f\"- {' '.join(filtered_cumle)}\")"
   ]
  },
  {
   "cell_type": "code",
   "execution_count": null,
   "id": "1bea5fc7-27a1-4a80-8f8a-cab9648099b5",
   "metadata": {},
   "outputs": [],
   "source": [
    "print(\"\\nKısa Kelimelerin Atılması:\")\n",
    "for filtered_cumle in kisa:\n",
    "    print(f\"- {' '.join(filtered_cumle)}\")"
   ]
  },
  {
   "cell_type": "code",
   "execution_count": null,
   "id": "e9de46d7-1dd2-4b56-8749-38a84ca4e277",
   "metadata": {},
   "outputs": [],
   "source": [
    "print(\"\\nBelirtilen Kelimelerin Atılması:\")\n",
    "for filtered_cumle in istenilenkelimeatimi:\n",
    "    print(f\"- {' '.join(filtered_cumle)}\")"
   ]
  }
 ],
 "metadata": {
  "kernelspec": {
   "display_name": "Python 3 (ipykernel)",
   "language": "python",
   "name": "python3"
  },
  "language_info": {
   "codemirror_mode": {
    "name": "ipython",
    "version": 3
   },
   "file_extension": ".py",
   "mimetype": "text/x-python",
   "name": "python",
   "nbconvert_exporter": "python",
   "pygments_lexer": "ipython3",
   "version": "3.11.7"
  }
 },
 "nbformat": 4,
 "nbformat_minor": 5
}
